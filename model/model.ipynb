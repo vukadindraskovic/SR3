{
 "cells": [
  {
   "cell_type": "code",
   "execution_count": 64,
   "metadata": {},
   "outputs": [],
   "source": [
    "import numpy as np\n",
    "import pandas as pd\n",
    "import tensorflow as tf\n",
    "from tensorflow import keras\n",
    "from tensorflow.keras import layers"
   ]
  },
  {
   "cell_type": "code",
   "execution_count": 65,
   "metadata": {},
   "outputs": [
    {
     "data": {
      "text/html": [
       "<div>\n",
       "<style scoped>\n",
       "    .dataframe tbody tr th:only-of-type {\n",
       "        vertical-align: middle;\n",
       "    }\n",
       "\n",
       "    .dataframe tbody tr th {\n",
       "        vertical-align: top;\n",
       "    }\n",
       "\n",
       "    .dataframe thead th {\n",
       "        text-align: right;\n",
       "    }\n",
       "</style>\n",
       "<table border=\"1\" class=\"dataframe\">\n",
       "  <thead>\n",
       "    <tr style=\"text-align: right;\">\n",
       "      <th></th>\n",
       "      <th>temperature</th>\n",
       "      <th>pressure</th>\n",
       "      <th>humidity</th>\n",
       "    </tr>\n",
       "  </thead>\n",
       "  <tbody>\n",
       "    <tr>\n",
       "      <th>0</th>\n",
       "      <td>22.928810</td>\n",
       "      <td>91501.618955</td>\n",
       "      <td>81.151847</td>\n",
       "    </tr>\n",
       "    <tr>\n",
       "      <th>1</th>\n",
       "      <td>32.911362</td>\n",
       "      <td>50704.458696</td>\n",
       "      <td>47.608399</td>\n",
       "    </tr>\n",
       "    <tr>\n",
       "      <th>2</th>\n",
       "      <td>26.165803</td>\n",
       "      <td>83307.833710</td>\n",
       "      <td>52.315599</td>\n",
       "    </tr>\n",
       "    <tr>\n",
       "      <th>3</th>\n",
       "      <td>22.692991</td>\n",
       "      <td>99613.927366</td>\n",
       "      <td>25.052059</td>\n",
       "    </tr>\n",
       "    <tr>\n",
       "      <th>4</th>\n",
       "      <td>15.419288</td>\n",
       "      <td>53078.280242</td>\n",
       "      <td>60.504302</td>\n",
       "    </tr>\n",
       "  </tbody>\n",
       "</table>\n",
       "</div>"
      ],
      "text/plain": [
       "   temperature      pressure   humidity\n",
       "0    22.928810  91501.618955  81.151847\n",
       "1    32.911362  50704.458696  47.608399\n",
       "2    26.165803  83307.833710  52.315599\n",
       "3    22.692991  99613.927366  25.052059\n",
       "4    15.419288  53078.280242  60.504302"
      ]
     },
     "execution_count": 65,
     "metadata": {},
     "output_type": "execute_result"
    }
   ],
   "source": [
    "np.random.seed(0)\n",
    "data_size = 1000\n",
    "\n",
    "temperature = np.random.uniform(low=-10.0, high=50.0, size=data_size)\n",
    "pressure = np.random.uniform(low=50000.0, high=120000.0, size=data_size)\n",
    "humidity = np.random.uniform(low=0.0, high=100.0, size=data_size)\n",
    "\n",
    "df = pd.DataFrame({\n",
    "    'temperature': temperature,\n",
    "    'pressure': pressure,\n",
    "    'humidity': humidity\n",
    "})\n",
    "\n",
    "df.head()\n"
   ]
  },
  {
   "cell_type": "code",
   "execution_count": 66,
   "metadata": {},
   "outputs": [],
   "source": [
    "df['class'] = np.where(\n",
    "    (df['temperature'] < 27) & (df['pressure'].between(50000, 102000)) & (df['humidity'] < 60), \n",
    "    1, \n",
    "    0\n",
    ")"
   ]
  },
  {
   "cell_type": "code",
   "execution_count": 67,
   "metadata": {},
   "outputs": [
    {
     "data": {
      "text/html": [
       "<div>\n",
       "<style scoped>\n",
       "    .dataframe tbody tr th:only-of-type {\n",
       "        vertical-align: middle;\n",
       "    }\n",
       "\n",
       "    .dataframe tbody tr th {\n",
       "        vertical-align: top;\n",
       "    }\n",
       "\n",
       "    .dataframe thead th {\n",
       "        text-align: right;\n",
       "    }\n",
       "</style>\n",
       "<table border=\"1\" class=\"dataframe\">\n",
       "  <thead>\n",
       "    <tr style=\"text-align: right;\">\n",
       "      <th></th>\n",
       "      <th>temperature</th>\n",
       "      <th>pressure</th>\n",
       "      <th>humidity</th>\n",
       "      <th>class</th>\n",
       "    </tr>\n",
       "  </thead>\n",
       "  <tbody>\n",
       "    <tr>\n",
       "      <th>0</th>\n",
       "      <td>22.928810</td>\n",
       "      <td>91501.618955</td>\n",
       "      <td>81.151847</td>\n",
       "      <td>0</td>\n",
       "    </tr>\n",
       "    <tr>\n",
       "      <th>1</th>\n",
       "      <td>32.911362</td>\n",
       "      <td>50704.458696</td>\n",
       "      <td>47.608399</td>\n",
       "      <td>0</td>\n",
       "    </tr>\n",
       "    <tr>\n",
       "      <th>2</th>\n",
       "      <td>26.165803</td>\n",
       "      <td>83307.833710</td>\n",
       "      <td>52.315599</td>\n",
       "      <td>1</td>\n",
       "    </tr>\n",
       "    <tr>\n",
       "      <th>3</th>\n",
       "      <td>22.692991</td>\n",
       "      <td>99613.927366</td>\n",
       "      <td>25.052059</td>\n",
       "      <td>1</td>\n",
       "    </tr>\n",
       "    <tr>\n",
       "      <th>4</th>\n",
       "      <td>15.419288</td>\n",
       "      <td>53078.280242</td>\n",
       "      <td>60.504302</td>\n",
       "      <td>0</td>\n",
       "    </tr>\n",
       "    <tr>\n",
       "      <th>5</th>\n",
       "      <td>28.753647</td>\n",
       "      <td>111566.503812</td>\n",
       "      <td>30.290481</td>\n",
       "      <td>0</td>\n",
       "    </tr>\n",
       "    <tr>\n",
       "      <th>6</th>\n",
       "      <td>16.255233</td>\n",
       "      <td>86405.699164</td>\n",
       "      <td>57.728401</td>\n",
       "      <td>1</td>\n",
       "    </tr>\n",
       "    <tr>\n",
       "      <th>7</th>\n",
       "      <td>43.506380</td>\n",
       "      <td>52146.273383</td>\n",
       "      <td>16.967812</td>\n",
       "      <td>0</td>\n",
       "    </tr>\n",
       "    <tr>\n",
       "      <th>8</th>\n",
       "      <td>47.819766</td>\n",
       "      <td>65708.952834</td>\n",
       "      <td>15.946909</td>\n",
       "      <td>0</td>\n",
       "    </tr>\n",
       "    <tr>\n",
       "      <th>9</th>\n",
       "      <td>13.006491</td>\n",
       "      <td>116757.298750</td>\n",
       "      <td>41.702974</td>\n",
       "      <td>0</td>\n",
       "    </tr>\n",
       "    <tr>\n",
       "      <th>10</th>\n",
       "      <td>37.503502</td>\n",
       "      <td>90762.381314</td>\n",
       "      <td>42.681952</td>\n",
       "      <td>0</td>\n",
       "    </tr>\n",
       "    <tr>\n",
       "      <th>11</th>\n",
       "      <td>21.733695</td>\n",
       "      <td>57523.079744</td>\n",
       "      <td>26.810926</td>\n",
       "      <td>1</td>\n",
       "    </tr>\n",
       "    <tr>\n",
       "      <th>12</th>\n",
       "      <td>24.082674</td>\n",
       "      <td>70128.115160</td>\n",
       "      <td>13.159685</td>\n",
       "      <td>1</td>\n",
       "    </tr>\n",
       "    <tr>\n",
       "      <th>13</th>\n",
       "      <td>45.535798</td>\n",
       "      <td>81969.253810</td>\n",
       "      <td>3.921054</td>\n",
       "      <td>0</td>\n",
       "    </tr>\n",
       "    <tr>\n",
       "      <th>14</th>\n",
       "      <td>-5.737837</td>\n",
       "      <td>51466.504849</td>\n",
       "      <td>2.523183</td>\n",
       "      <td>1</td>\n",
       "    </tr>\n",
       "    <tr>\n",
       "      <th>15</th>\n",
       "      <td>-4.772242</td>\n",
       "      <td>78813.085953</td>\n",
       "      <td>27.155029</td>\n",
       "      <td>1</td>\n",
       "    </tr>\n",
       "    <tr>\n",
       "      <th>16</th>\n",
       "      <td>-8.786896</td>\n",
       "      <td>84262.104480</td>\n",
       "      <td>46.185344</td>\n",
       "      <td>1</td>\n",
       "    </tr>\n",
       "    <tr>\n",
       "      <th>17</th>\n",
       "      <td>39.957191</td>\n",
       "      <td>67057.451270</td>\n",
       "      <td>72.624328</td>\n",
       "      <td>0</td>\n",
       "    </tr>\n",
       "    <tr>\n",
       "      <th>18</th>\n",
       "      <td>36.689405</td>\n",
       "      <td>91204.730020</td>\n",
       "      <td>47.487170</td>\n",
       "      <td>0</td>\n",
       "    </tr>\n",
       "    <tr>\n",
       "      <th>19</th>\n",
       "      <td>42.200729</td>\n",
       "      <td>102726.808371</td>\n",
       "      <td>90.405082</td>\n",
       "      <td>0</td>\n",
       "    </tr>\n",
       "  </tbody>\n",
       "</table>\n",
       "</div>"
      ],
      "text/plain": [
       "    temperature       pressure   humidity  class\n",
       "0     22.928810   91501.618955  81.151847      0\n",
       "1     32.911362   50704.458696  47.608399      0\n",
       "2     26.165803   83307.833710  52.315599      1\n",
       "3     22.692991   99613.927366  25.052059      1\n",
       "4     15.419288   53078.280242  60.504302      0\n",
       "5     28.753647  111566.503812  30.290481      0\n",
       "6     16.255233   86405.699164  57.728401      1\n",
       "7     43.506380   52146.273383  16.967812      0\n",
       "8     47.819766   65708.952834  15.946909      0\n",
       "9     13.006491  116757.298750  41.702974      0\n",
       "10    37.503502   90762.381314  42.681952      0\n",
       "11    21.733695   57523.079744  26.810926      1\n",
       "12    24.082674   70128.115160  13.159685      1\n",
       "13    45.535798   81969.253810   3.921054      0\n",
       "14    -5.737837   51466.504849   2.523183      1\n",
       "15    -4.772242   78813.085953  27.155029      1\n",
       "16    -8.786896   84262.104480  46.185344      1\n",
       "17    39.957191   67057.451270  72.624328      0\n",
       "18    36.689405   91204.730020  47.487170      0\n",
       "19    42.200729  102726.808371  90.405082      0"
      ]
     },
     "execution_count": 67,
     "metadata": {},
     "output_type": "execute_result"
    }
   ],
   "source": [
    "df.head(20)"
   ]
  },
  {
   "cell_type": "code",
   "execution_count": 68,
   "metadata": {},
   "outputs": [
    {
     "data": {
      "image/png": "[encoded data removed]",
      "text/plain": [
       "<Figure size 640x480 with 1 Axes>"
      ]
     },
     "metadata": {},
     "output_type": "display_data"
    }
   ],
   "source": [
    "import matplotlib.pyplot as plt\n",
    "\n",
    "class_counts = df['class'].value_counts()\n",
    "labels = ['Bad Environment', 'Good Environment']\n",
    "colors = ['lightcoral', 'lightskyblue']\n",
    "explode = (0.1, 0)  \n",
    "\n",
    "plt.pie(class_counts, labels=labels, colors=colors, autopct='%1.1f%%', startangle=140, explode=explode)\n",
    "plt.title('Distribution of Environment Classes')\n",
    "plt.axis('equal')  \n",
    "plt.show()"
   ]
  },
  {
   "cell_type": "code",
   "execution_count": 69,
   "metadata": {},
   "outputs": [],
   "source": [
    "from sklearn.model_selection import train_test_split\n",
    "\n",
    "X = df[['temperature', 'pressure', 'humidity']].values\n",
    "y = df['class'].values\n",
    "\n",
    "X_train, X_test, y_train, y_test = train_test_split(X, y, test_size=0.2, random_state=42)\n"
   ]
  },
  {
   "cell_type": "code",
   "execution_count": 70,
   "metadata": {},
   "outputs": [],
   "source": [
    "from sklearn.preprocessing import StandardScaler\n",
    "from imblearn.over_sampling import SMOTE\n",
    "from tensorflow.keras.models import Sequential\n",
    "from tensorflow.keras.layers import Dense\n",
    "from tensorflow.keras.optimizers import Adam\n",
    "\n",
    "smote = SMOTE(random_state=42)\n",
    "X_train_balanced, y_train_balanced = smote.fit_resample(X_train, y_train)\n",
    "\n",
    "scaler = StandardScaler()\n",
    "X_train_balanced = scaler.fit_transform(X_train_balanced)\n",
    "X_test = scaler.transform(X_test)"
   ]
  },
  {
   "cell_type": "code",
   "execution_count": 71,
   "metadata": {},
   "outputs": [
    {
     "name": "stdout",
     "output_type": "stream",
     "text": [
      "Model: \"sequential_8\"\n",
      "_________________________________________________________________\n",
      " Layer (type)                Output Shape              Param #   \n",
      "=================================================================\n",
      " dense_24 (Dense)            (None, 64)                256       \n",
      "                                                                 \n",
      " dense_25 (Dense)            (None, 32)                2080      \n",
      "                                                                 \n",
      " dense_26 (Dense)            (None, 1)                 33        \n",
      "                                                                 \n",
      "=================================================================\n",
      "Total params: 2369 (9.25 KB)\n",
      "Trainable params: 2369 (9.25 KB)\n",
      "Non-trainable params: 0 (0.00 Byte)\n",
      "_________________________________________________________________\n"
     ]
    }
   ],
   "source": [
    "model = keras.Sequential([\n",
    "    layers.Dense(64, activation='relu', input_shape=(3,)),\n",
    "    layers.Dense(32, activation='relu'),\n",
    "    layers.Dense(1, activation='sigmoid') # binarna klasifikacija\n",
    "])\n",
    "\n",
    "model.compile(optimizer=Adam(learning_rate=0.001), loss='mse', metrics=['accuracy'])\n",
    "model.summary()"
   ]
  },
  {
   "cell_type": "code",
   "execution_count": 72,
   "metadata": {},
   "outputs": [
    {
     "name": "stdout",
     "output_type": "stream",
     "text": [
      "Epoch 1/20\n",
      "30/30 [==============================] - 1s 8ms/step - loss: 0.2046 - accuracy: 0.7447 - val_loss: 0.2149 - val_accuracy: 0.6639\n",
      "Epoch 2/20\n",
      "30/30 [==============================] - 0s 4ms/step - loss: 0.1117 - accuracy: 0.8929 - val_loss: 0.1474 - val_accuracy: 0.8109\n",
      "Epoch 3/20\n",
      "30/30 [==============================] - 0s 3ms/step - loss: 0.0782 - accuracy: 0.9149 - val_loss: 0.1207 - val_accuracy: 0.8361\n",
      "Epoch 4/20\n",
      "30/30 [==============================] - 0s 4ms/step - loss: 0.0653 - accuracy: 0.9191 - val_loss: 0.1020 - val_accuracy: 0.8613\n",
      "Epoch 5/20\n",
      "30/30 [==============================] - 0s 3ms/step - loss: 0.0577 - accuracy: 0.9275 - val_loss: 0.0864 - val_accuracy: 0.8908\n",
      "Epoch 6/20\n",
      "30/30 [==============================] - 0s 3ms/step - loss: 0.0517 - accuracy: 0.9328 - val_loss: 0.0784 - val_accuracy: 0.8950\n",
      "Epoch 7/20\n",
      "30/30 [==============================] - 0s 4ms/step - loss: 0.0457 - accuracy: 0.9401 - val_loss: 0.0691 - val_accuracy: 0.8950\n",
      "Epoch 8/20\n",
      "30/30 [==============================] - 0s 3ms/step - loss: 0.0404 - accuracy: 0.9422 - val_loss: 0.0548 - val_accuracy: 0.9286\n",
      "Epoch 9/20\n",
      "30/30 [==============================] - 0s 5ms/step - loss: 0.0359 - accuracy: 0.9538 - val_loss: 0.0475 - val_accuracy: 0.9370\n",
      "Epoch 10/20\n",
      "30/30 [==============================] - 0s 3ms/step - loss: 0.0313 - accuracy: 0.9643 - val_loss: 0.0417 - val_accuracy: 0.9622\n",
      "Epoch 11/20\n",
      "30/30 [==============================] - 0s 3ms/step - loss: 0.0279 - accuracy: 0.9748 - val_loss: 0.0430 - val_accuracy: 0.9412\n",
      "Epoch 12/20\n",
      "30/30 [==============================] - 0s 4ms/step - loss: 0.0244 - accuracy: 0.9779 - val_loss: 0.0279 - val_accuracy: 0.9916\n",
      "Epoch 13/20\n",
      "30/30 [==============================] - 0s 3ms/step - loss: 0.0220 - accuracy: 0.9800 - val_loss: 0.0280 - val_accuracy: 0.9958\n",
      "Epoch 14/20\n",
      "30/30 [==============================] - 0s 3ms/step - loss: 0.0198 - accuracy: 0.9884 - val_loss: 0.0243 - val_accuracy: 0.9958\n",
      "Epoch 15/20\n",
      "30/30 [==============================] - 0s 3ms/step - loss: 0.0181 - accuracy: 0.9895 - val_loss: 0.0200 - val_accuracy: 0.9958\n",
      "Epoch 16/20\n",
      "30/30 [==============================] - 0s 3ms/step - loss: 0.0161 - accuracy: 0.9895 - val_loss: 0.0187 - val_accuracy: 0.9958\n",
      "Epoch 17/20\n",
      "30/30 [==============================] - 0s 3ms/step - loss: 0.0147 - accuracy: 0.9937 - val_loss: 0.0222 - val_accuracy: 0.9916\n",
      "Epoch 18/20\n",
      "30/30 [==============================] - 0s 3ms/step - loss: 0.0140 - accuracy: 0.9947 - val_loss: 0.0241 - val_accuracy: 0.9832\n",
      "Epoch 19/20\n",
      "30/30 [==============================] - 0s 3ms/step - loss: 0.0129 - accuracy: 0.9937 - val_loss: 0.0150 - val_accuracy: 1.0000\n",
      "Epoch 20/20\n",
      "30/30 [==============================] - 0s 3ms/step - loss: 0.0120 - accuracy: 0.9926 - val_loss: 0.0154 - val_accuracy: 0.9958\n"
     ]
    }
   ],
   "source": [
    "history = model.fit(X_train_balanced, y_train_balanced, epochs=20, validation_split=0.2, verbose=1)"
   ]
  },
  {
   "cell_type": "code",
   "execution_count": 73,
   "metadata": {},
   "outputs": [
    {
     "name": "stdout",
     "output_type": "stream",
     "text": [
      "7/7 [==============================] - 0s 2ms/step - loss: 0.0246 - accuracy: 0.9750\n",
      "Test MAE: 0.9750000238418579\n"
     ]
    }
   ],
   "source": [
    "test_loss, test_mae = model.evaluate(X_test, y_test)\n",
    "\n",
    "print(f'Test MAE: {test_mae}')"
   ]
  },
  {
   "cell_type": "code",
   "execution_count": 76,
   "metadata": {},
   "outputs": [
    {
     "name": "stderr",
     "output_type": "stream",
     "text": [
      "c:\\Users\\Emma\\AppData\\Local\\Programs\\Python\\Python310\\lib\\site-packages\\keras\\src\\engine\\training.py:3103: UserWarning: You are saving your model as an HDF5 file via `model.save()`. This file format is considered legacy. We recommend using instead the native Keras format, e.g. `model.save('my_model.keras')`.\n",
      "  saving_api.save_model(\n"
     ]
    }
   ],
   "source": [
    "model.save('humidity_prediction_model.h5')"
   ]
  },
  {
   "cell_type": "code",
   "execution_count": 77,
   "metadata": {},
   "outputs": [
    {
     "name": "stdout",
     "output_type": "stream",
     "text": [
      "INFO:tensorflow:Assets written to: C:\\Users\\Emma\\AppData\\Local\\Temp\\tmp0nqmyo5v\\assets\n"
     ]
    },
    {
     "name": "stderr",
     "output_type": "stream",
     "text": [
      "INFO:tensorflow:Assets written to: C:\\Users\\Emma\\AppData\\Local\\Temp\\tmp0nqmyo5v\\assets\n"
     ]
    }
   ],
   "source": [
    "converter = tf.lite.TFLiteConverter.from_keras_model(model)\n",
    "tflite_model = converter.convert()\n",
    "\n",
    "with open('humidity_prediction_model.tflite', 'wb') as f:\n",
    "    f.write(tflite_model)"
   ]
  }
 ],
 "metadata": {
  "kernelspec": {
   "display_name": "Python 3",
   "language": "python",
   "name": "python3"
  },
  "language_info": {
   "codemirror_mode": {
    "name": "ipython",
    "version": 3
   },
   "file_extension": ".py",
   "mimetype": "text/x-python",
   "name": "python",
   "nbconvert_exporter": "python",
   "pygments_lexer": "ipython3",
   "version": "3.10.2"
  }
 },
 "nbformat": 4,
 "nbformat_minor": 2
}
